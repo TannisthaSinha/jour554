{
 "cells": [
  {
   "cell_type": "code",
   "execution_count": 1,
   "id": "76baa4ac-2966-485b-baf3-4b4544afa64e",
   "metadata": {},
   "outputs": [],
   "source": [
    "import pandas as pd"
   ]
  },
  {
   "cell_type": "code",
   "execution_count": 2,
   "id": "f3b77be6-83a6-4c9b-80fe-ec4030e60bcd",
   "metadata": {},
   "outputs": [],
   "source": [
    "import geopandas as gpd"
   ]
  },
  {
   "cell_type": "code",
   "execution_count": 3,
   "id": "d93d808d-b842-41ae-b99e-794f83c3a928",
   "metadata": {},
   "outputs": [],
   "source": [
    "import datetime"
   ]
  },
  {
   "cell_type": "code",
   "execution_count": 4,
   "id": "e3aa0bf1-7b04-4b03-88da-6c5b8e4712a7",
   "metadata": {},
   "outputs": [],
   "source": [
    "import matplotlib.pyplot as plt"
   ]
  },
  {
   "cell_type": "code",
   "execution_count": 47,
   "id": "a5657dda-bfc3-4098-8b42-5f2cd6bee133",
   "metadata": {},
   "outputs": [],
   "source": [
    "from shapely.geometry import Point, LineString"
   ]
  },
  {
   "cell_type": "code",
   "execution_count": 5,
   "id": "59247b67-2b59-48bc-ab6d-411c05bd5cf3",
   "metadata": {},
   "outputs": [],
   "source": [
    "df = pd.read_csv(\"data/metro-trips-2021-q3/metro-trips-2021-q3.csv\")"
   ]
  },
  {
   "cell_type": "markdown",
   "id": "de95d083-b25d-4fb2-b57f-c6ce10a8db4b",
   "metadata": {},
   "source": [
    "x"
   ]
  },
  {
   "cell_type": "code",
   "execution_count": 6,
   "id": "2df6cb4d-16b4-46c4-bd29-d089fde390ff",
   "metadata": {},
   "outputs": [
    {
     "data": {
      "text/html": [
       "<div>\n",
       "<style scoped>\n",
       "    .dataframe tbody tr th:only-of-type {\n",
       "        vertical-align: middle;\n",
       "    }\n",
       "\n",
       "    .dataframe tbody tr th {\n",
       "        vertical-align: top;\n",
       "    }\n",
       "\n",
       "    .dataframe thead th {\n",
       "        text-align: right;\n",
       "    }\n",
       "</style>\n",
       "<table border=\"1\" class=\"dataframe\">\n",
       "  <thead>\n",
       "    <tr style=\"text-align: right;\">\n",
       "      <th></th>\n",
       "      <th>trip_id</th>\n",
       "      <th>duration</th>\n",
       "      <th>start_time</th>\n",
       "      <th>end_time</th>\n",
       "      <th>start_station</th>\n",
       "      <th>start_lat</th>\n",
       "      <th>start_lon</th>\n",
       "      <th>end_station</th>\n",
       "      <th>end_lat</th>\n",
       "      <th>end_lon</th>\n",
       "      <th>bike_id</th>\n",
       "      <th>plan_duration</th>\n",
       "      <th>trip_route_category</th>\n",
       "      <th>passholder_type</th>\n",
       "      <th>bike_type</th>\n",
       "    </tr>\n",
       "  </thead>\n",
       "  <tbody>\n",
       "    <tr>\n",
       "      <th>0</th>\n",
       "      <td>165226338</td>\n",
       "      <td>19</td>\n",
       "      <td>7/1/2021 0:12</td>\n",
       "      <td>7/1/2021 0:31</td>\n",
       "      <td>4548</td>\n",
       "      <td>34.026829</td>\n",
       "      <td>-118.393517</td>\n",
       "      <td>4555</td>\n",
       "      <td>34.005871</td>\n",
       "      <td>-118.429161</td>\n",
       "      <td>20122</td>\n",
       "      <td>30</td>\n",
       "      <td>One Way</td>\n",
       "      <td>Monthly Pass</td>\n",
       "      <td>standard</td>\n",
       "    </tr>\n",
       "    <tr>\n",
       "      <th>1</th>\n",
       "      <td>165226638</td>\n",
       "      <td>22</td>\n",
       "      <td>7/1/2021 0:23</td>\n",
       "      <td>7/1/2021 0:45</td>\n",
       "      <td>4441</td>\n",
       "      <td>34.026619</td>\n",
       "      <td>-118.281807</td>\n",
       "      <td>4441</td>\n",
       "      <td>34.026619</td>\n",
       "      <td>-118.281807</td>\n",
       "      <td>17346</td>\n",
       "      <td>30</td>\n",
       "      <td>Round Trip</td>\n",
       "      <td>Monthly Pass</td>\n",
       "      <td>electric</td>\n",
       "    </tr>\n",
       "    <tr>\n",
       "      <th>2</th>\n",
       "      <td>165226838</td>\n",
       "      <td>26</td>\n",
       "      <td>7/1/2021 0:34</td>\n",
       "      <td>7/1/2021 1:00</td>\n",
       "      <td>4555</td>\n",
       "      <td>34.005871</td>\n",
       "      <td>-118.429161</td>\n",
       "      <td>4555</td>\n",
       "      <td>34.005871</td>\n",
       "      <td>-118.429161</td>\n",
       "      <td>14059</td>\n",
       "      <td>30</td>\n",
       "      <td>Round Trip</td>\n",
       "      <td>Monthly Pass</td>\n",
       "      <td>standard</td>\n",
       "    </tr>\n",
       "    <tr>\n",
       "      <th>3</th>\n",
       "      <td>165229638</td>\n",
       "      <td>17</td>\n",
       "      <td>7/1/2021 0:50</td>\n",
       "      <td>7/1/2021 1:07</td>\n",
       "      <td>4441</td>\n",
       "      <td>34.026619</td>\n",
       "      <td>-118.281807</td>\n",
       "      <td>4454</td>\n",
       "      <td>34.017899</td>\n",
       "      <td>-118.291718</td>\n",
       "      <td>17346</td>\n",
       "      <td>30</td>\n",
       "      <td>One Way</td>\n",
       "      <td>Monthly Pass</td>\n",
       "      <td>electric</td>\n",
       "    </tr>\n",
       "    <tr>\n",
       "      <th>4</th>\n",
       "      <td>165234338</td>\n",
       "      <td>15</td>\n",
       "      <td>7/1/2021 2:38</td>\n",
       "      <td>7/1/2021 2:53</td>\n",
       "      <td>4564</td>\n",
       "      <td>34.035351</td>\n",
       "      <td>-118.434143</td>\n",
       "      <td>4561</td>\n",
       "      <td>34.020061</td>\n",
       "      <td>-118.422684</td>\n",
       "      <td>15665</td>\n",
       "      <td>30</td>\n",
       "      <td>One Way</td>\n",
       "      <td>Monthly Pass</td>\n",
       "      <td>standard</td>\n",
       "    </tr>\n",
       "  </tbody>\n",
       "</table>\n",
       "</div>"
      ],
      "text/plain": [
       "     trip_id  duration     start_time       end_time  start_station  \\\n",
       "0  165226338        19  7/1/2021 0:12  7/1/2021 0:31           4548   \n",
       "1  165226638        22  7/1/2021 0:23  7/1/2021 0:45           4441   \n",
       "2  165226838        26  7/1/2021 0:34  7/1/2021 1:00           4555   \n",
       "3  165229638        17  7/1/2021 0:50  7/1/2021 1:07           4441   \n",
       "4  165234338        15  7/1/2021 2:38  7/1/2021 2:53           4564   \n",
       "\n",
       "   start_lat   start_lon  end_station    end_lat     end_lon bike_id  \\\n",
       "0  34.026829 -118.393517         4555  34.005871 -118.429161   20122   \n",
       "1  34.026619 -118.281807         4441  34.026619 -118.281807   17346   \n",
       "2  34.005871 -118.429161         4555  34.005871 -118.429161   14059   \n",
       "3  34.026619 -118.281807         4454  34.017899 -118.291718   17346   \n",
       "4  34.035351 -118.434143         4561  34.020061 -118.422684   15665   \n",
       "\n",
       "   plan_duration trip_route_category passholder_type bike_type  \n",
       "0             30             One Way    Monthly Pass  standard  \n",
       "1             30          Round Trip    Monthly Pass  electric  \n",
       "2             30          Round Trip    Monthly Pass  standard  \n",
       "3             30             One Way    Monthly Pass  electric  \n",
       "4             30             One Way    Monthly Pass  standard  "
      ]
     },
     "execution_count": 6,
     "metadata": {},
     "output_type": "execute_result"
    }
   ],
   "source": [
    "df.head()"
   ]
  },
  {
   "cell_type": "code",
   "execution_count": 7,
   "id": "df725298-d6af-4eb0-a23d-b16d40187995",
   "metadata": {},
   "outputs": [
    {
     "data": {
      "text/html": [
       "<div>\n",
       "<style scoped>\n",
       "    .dataframe tbody tr th:only-of-type {\n",
       "        vertical-align: middle;\n",
       "    }\n",
       "\n",
       "    .dataframe tbody tr th {\n",
       "        vertical-align: top;\n",
       "    }\n",
       "\n",
       "    .dataframe thead th {\n",
       "        text-align: right;\n",
       "    }\n",
       "</style>\n",
       "<table border=\"1\" class=\"dataframe\">\n",
       "  <thead>\n",
       "    <tr style=\"text-align: right;\">\n",
       "      <th></th>\n",
       "      <th>trip_id</th>\n",
       "      <th>duration</th>\n",
       "      <th>start_time</th>\n",
       "      <th>end_time</th>\n",
       "      <th>start_station</th>\n",
       "      <th>start_lat</th>\n",
       "      <th>start_lon</th>\n",
       "      <th>end_station</th>\n",
       "      <th>end_lat</th>\n",
       "      <th>end_lon</th>\n",
       "      <th>bike_id</th>\n",
       "      <th>plan_duration</th>\n",
       "      <th>trip_route_category</th>\n",
       "      <th>passholder_type</th>\n",
       "      <th>bike_type</th>\n",
       "    </tr>\n",
       "  </thead>\n",
       "  <tbody>\n",
       "    <tr>\n",
       "      <th>58406</th>\n",
       "      <td>172218915</td>\n",
       "      <td>8</td>\n",
       "      <td>9/30/2021 23:28</td>\n",
       "      <td>9/30/2021 23:36</td>\n",
       "      <td>4440</td>\n",
       "      <td>34.061661</td>\n",
       "      <td>-118.298241</td>\n",
       "      <td>4587</td>\n",
       "      <td>34.060791</td>\n",
       "      <td>-118.309067</td>\n",
       "      <td>12362</td>\n",
       "      <td>30</td>\n",
       "      <td>One Way</td>\n",
       "      <td>Monthly Pass</td>\n",
       "      <td>standard</td>\n",
       "    </tr>\n",
       "    <tr>\n",
       "      <th>58407</th>\n",
       "      <td>172218913</td>\n",
       "      <td>7</td>\n",
       "      <td>9/30/2021 23:32</td>\n",
       "      <td>9/30/2021 23:39</td>\n",
       "      <td>3056</td>\n",
       "      <td>34.037460</td>\n",
       "      <td>-118.265381</td>\n",
       "      <td>3076</td>\n",
       "      <td>34.040600</td>\n",
       "      <td>-118.253838</td>\n",
       "      <td>20030</td>\n",
       "      <td>365</td>\n",
       "      <td>One Way</td>\n",
       "      <td>Annual Pass</td>\n",
       "      <td>standard</td>\n",
       "    </tr>\n",
       "    <tr>\n",
       "      <th>58408</th>\n",
       "      <td>172219114</td>\n",
       "      <td>13</td>\n",
       "      <td>9/30/2021 23:34</td>\n",
       "      <td>9/30/2021 23:47</td>\n",
       "      <td>4217</td>\n",
       "      <td>34.040310</td>\n",
       "      <td>-118.258270</td>\n",
       "      <td>4248</td>\n",
       "      <td>34.028351</td>\n",
       "      <td>-118.288673</td>\n",
       "      <td>19819</td>\n",
       "      <td>30</td>\n",
       "      <td>One Way</td>\n",
       "      <td>Monthly Pass</td>\n",
       "      <td>electric</td>\n",
       "    </tr>\n",
       "    <tr>\n",
       "      <th>58409</th>\n",
       "      <td>172219113</td>\n",
       "      <td>7</td>\n",
       "      <td>9/30/2021 23:41</td>\n",
       "      <td>9/30/2021 23:48</td>\n",
       "      <td>3008</td>\n",
       "      <td>34.046612</td>\n",
       "      <td>-118.262733</td>\n",
       "      <td>4315</td>\n",
       "      <td>34.054031</td>\n",
       "      <td>-118.270920</td>\n",
       "      <td>19544</td>\n",
       "      <td>1</td>\n",
       "      <td>One Way</td>\n",
       "      <td>Walk-up</td>\n",
       "      <td>electric</td>\n",
       "    </tr>\n",
       "    <tr>\n",
       "      <th>58410</th>\n",
       "      <td>172219313</td>\n",
       "      <td>7</td>\n",
       "      <td>9/30/2021 23:50</td>\n",
       "      <td>9/30/2021 23:57</td>\n",
       "      <td>3030</td>\n",
       "      <td>34.051941</td>\n",
       "      <td>-118.243530</td>\n",
       "      <td>4578</td>\n",
       "      <td>34.042980</td>\n",
       "      <td>-118.252953</td>\n",
       "      <td>19998</td>\n",
       "      <td>1</td>\n",
       "      <td>One Way</td>\n",
       "      <td>Walk-up</td>\n",
       "      <td>standard</td>\n",
       "    </tr>\n",
       "  </tbody>\n",
       "</table>\n",
       "</div>"
      ],
      "text/plain": [
       "         trip_id  duration       start_time         end_time  start_station  \\\n",
       "58406  172218915         8  9/30/2021 23:28  9/30/2021 23:36           4440   \n",
       "58407  172218913         7  9/30/2021 23:32  9/30/2021 23:39           3056   \n",
       "58408  172219114        13  9/30/2021 23:34  9/30/2021 23:47           4217   \n",
       "58409  172219113         7  9/30/2021 23:41  9/30/2021 23:48           3008   \n",
       "58410  172219313         7  9/30/2021 23:50  9/30/2021 23:57           3030   \n",
       "\n",
       "       start_lat   start_lon  end_station    end_lat     end_lon bike_id  \\\n",
       "58406  34.061661 -118.298241         4587  34.060791 -118.309067   12362   \n",
       "58407  34.037460 -118.265381         3076  34.040600 -118.253838   20030   \n",
       "58408  34.040310 -118.258270         4248  34.028351 -118.288673   19819   \n",
       "58409  34.046612 -118.262733         4315  34.054031 -118.270920   19544   \n",
       "58410  34.051941 -118.243530         4578  34.042980 -118.252953   19998   \n",
       "\n",
       "       plan_duration trip_route_category passholder_type bike_type  \n",
       "58406             30             One Way    Monthly Pass  standard  \n",
       "58407            365             One Way     Annual Pass  standard  \n",
       "58408             30             One Way    Monthly Pass  electric  \n",
       "58409              1             One Way         Walk-up  electric  \n",
       "58410              1             One Way         Walk-up  standard  "
      ]
     },
     "execution_count": 7,
     "metadata": {},
     "output_type": "execute_result"
    }
   ],
   "source": [
    "df.tail()"
   ]
  },
  {
   "cell_type": "code",
   "execution_count": 8,
   "id": "f9570ff7-d7a9-4e5c-b7f7-8820ab6c9917",
   "metadata": {},
   "outputs": [
    {
     "data": {
      "text/plain": [
       "58411"
      ]
     },
     "execution_count": 8,
     "metadata": {},
     "output_type": "execute_result"
    }
   ],
   "source": [
    "len(df)"
   ]
  },
  {
   "cell_type": "markdown",
   "id": "35ef1786-e290-4ebd-816b-a82861d75065",
   "metadata": {},
   "source": [
    "# Interviewing the data : Here are some questions we can answer from the data\n",
    "\n",
    "- What is the most common hour to start?\n",
    "- What is the most common start station?\n",
    "- How many passholder trips of each type are taken?\n",
    "- How long is the average time for a trip?\n",
    "- How long is the average distance for a trip?"
   ]
  },
  {
   "cell_type": "markdown",
   "id": "09ae509d-27b6-46c0-bc31-1bc4983b118b",
   "metadata": {},
   "source": [
    "# What is the most common hour to start?"
   ]
  },
  {
   "cell_type": "code",
   "execution_count": 9,
   "id": "3bd81e96-0589-4a1d-a227-4226544a7826",
   "metadata": {},
   "outputs": [],
   "source": [
    "df['start_time'] = pd.to_datetime(df['start_time'])"
   ]
  },
  {
   "cell_type": "code",
   "execution_count": 10,
   "id": "e9f1350c-d449-4db6-8597-28203bbe6ab6",
   "metadata": {},
   "outputs": [
    {
     "data": {
      "text/html": [
       "<div>\n",
       "<style scoped>\n",
       "    .dataframe tbody tr th:only-of-type {\n",
       "        vertical-align: middle;\n",
       "    }\n",
       "\n",
       "    .dataframe tbody tr th {\n",
       "        vertical-align: top;\n",
       "    }\n",
       "\n",
       "    .dataframe thead th {\n",
       "        text-align: right;\n",
       "    }\n",
       "</style>\n",
       "<table border=\"1\" class=\"dataframe\">\n",
       "  <thead>\n",
       "    <tr style=\"text-align: right;\">\n",
       "      <th></th>\n",
       "      <th>start_time</th>\n",
       "    </tr>\n",
       "  </thead>\n",
       "  <tbody>\n",
       "    <tr>\n",
       "      <th>18:00:00</th>\n",
       "      <td>5833</td>\n",
       "    </tr>\n",
       "    <tr>\n",
       "      <th>19:00:00</th>\n",
       "      <td>5090</td>\n",
       "    </tr>\n",
       "    <tr>\n",
       "      <th>17:00:00</th>\n",
       "      <td>4882</td>\n",
       "    </tr>\n",
       "    <tr>\n",
       "      <th>16:00:00</th>\n",
       "      <td>4631</td>\n",
       "    </tr>\n",
       "    <tr>\n",
       "      <th>14:00:00</th>\n",
       "      <td>4347</td>\n",
       "    </tr>\n",
       "    <tr>\n",
       "      <th>15:00:00</th>\n",
       "      <td>4293</td>\n",
       "    </tr>\n",
       "    <tr>\n",
       "      <th>13:00:00</th>\n",
       "      <td>4130</td>\n",
       "    </tr>\n",
       "    <tr>\n",
       "      <th>20:00:00</th>\n",
       "      <td>3743</td>\n",
       "    </tr>\n",
       "    <tr>\n",
       "      <th>12:00:00</th>\n",
       "      <td>3550</td>\n",
       "    </tr>\n",
       "    <tr>\n",
       "      <th>11:00:00</th>\n",
       "      <td>2959</td>\n",
       "    </tr>\n",
       "    <tr>\n",
       "      <th>10:00:00</th>\n",
       "      <td>2701</td>\n",
       "    </tr>\n",
       "    <tr>\n",
       "      <th>21:00:00</th>\n",
       "      <td>2467</td>\n",
       "    </tr>\n",
       "    <tr>\n",
       "      <th>09:00:00</th>\n",
       "      <td>2059</td>\n",
       "    </tr>\n",
       "    <tr>\n",
       "      <th>22:00:00</th>\n",
       "      <td>1939</td>\n",
       "    </tr>\n",
       "    <tr>\n",
       "      <th>08:00:00</th>\n",
       "      <td>1662</td>\n",
       "    </tr>\n",
       "    <tr>\n",
       "      <th>23:00:00</th>\n",
       "      <td>1141</td>\n",
       "    </tr>\n",
       "    <tr>\n",
       "      <th>07:00:00</th>\n",
       "      <td>847</td>\n",
       "    </tr>\n",
       "    <tr>\n",
       "      <th>00:00:00</th>\n",
       "      <td>790</td>\n",
       "    </tr>\n",
       "    <tr>\n",
       "      <th>01:00:00</th>\n",
       "      <td>386</td>\n",
       "    </tr>\n",
       "    <tr>\n",
       "      <th>02:00:00</th>\n",
       "      <td>276</td>\n",
       "    </tr>\n",
       "    <tr>\n",
       "      <th>06:00:00</th>\n",
       "      <td>203</td>\n",
       "    </tr>\n",
       "    <tr>\n",
       "      <th>03:00:00</th>\n",
       "      <td>189</td>\n",
       "    </tr>\n",
       "    <tr>\n",
       "      <th>05:00:00</th>\n",
       "      <td>152</td>\n",
       "    </tr>\n",
       "    <tr>\n",
       "      <th>04:00:00</th>\n",
       "      <td>141</td>\n",
       "    </tr>\n",
       "  </tbody>\n",
       "</table>\n",
       "</div>"
      ],
      "text/plain": [
       "          start_time\n",
       "18:00:00        5833\n",
       "19:00:00        5090\n",
       "17:00:00        4882\n",
       "16:00:00        4631\n",
       "14:00:00        4347\n",
       "15:00:00        4293\n",
       "13:00:00        4130\n",
       "20:00:00        3743\n",
       "12:00:00        3550\n",
       "11:00:00        2959\n",
       "10:00:00        2701\n",
       "21:00:00        2467\n",
       "09:00:00        2059\n",
       "22:00:00        1939\n",
       "08:00:00        1662\n",
       "23:00:00        1141\n",
       "07:00:00         847\n",
       "00:00:00         790\n",
       "01:00:00         386\n",
       "02:00:00         276\n",
       "06:00:00         203\n",
       "03:00:00         189\n",
       "05:00:00         152\n",
       "04:00:00         141"
      ]
     },
     "execution_count": 10,
     "metadata": {},
     "output_type": "execute_result"
    }
   ],
   "source": [
    "start_time = pd.DataFrame(df['start_time'].dt.round('60min').dt.time.value_counts())\n",
    "start_time"
   ]
  },
  {
   "cell_type": "markdown",
   "id": "741c7125-07c8-498e-8b26-0c0b01406402",
   "metadata": {},
   "source": [
    "The most commonn hour is 6pm. Here is a graph:"
   ]
  },
  {
   "cell_type": "code",
   "execution_count": 11,
   "id": "e10f0ae7-1165-4df3-acda-c809d2db8499",
   "metadata": {},
   "outputs": [
    {
     "data": {
      "text/plain": [
       "<AxesSubplot:>"
      ]
     },
     "execution_count": 11,
     "metadata": {},
     "output_type": "execute_result"
    },
    {
     "data": {
      "image/png": "[encoded data removed]",
      "text/plain": [
       "<Figure size 432x288 with 1 Axes>"
      ]
     },
     "metadata": {
      "needs_background": "light"
     },
     "output_type": "display_data"
    }
   ],
   "source": [
    "start_time = start_time.sort_index(ascending=True)\n",
    "start_time.plot(kind = 'bar')"
   ]
  },
  {
   "cell_type": "markdown",
   "id": "b42fdfa7-62f5-46c9-8de5-5dc90fae675a",
   "metadata": {},
   "source": [
    "# According to this analysis, metro bikes are most used during 6pm to 7pm and least used from 4am to 5am."
   ]
  },
  {
   "cell_type": "markdown",
   "id": "ca1cfb83-823f-4431-a23e-ce8ee261f3d1",
   "metadata": {},
   "source": [
    "# What is the most common start station?"
   ]
  },
  {
   "cell_type": "code",
   "execution_count": 12,
   "id": "d26bf85c-4c00-422a-a91d-ba65a249eb3c",
   "metadata": {},
   "outputs": [
    {
     "data": {
      "text/plain": [
       "4214"
      ]
     },
     "execution_count": 12,
     "metadata": {},
     "output_type": "execute_result"
    }
   ],
   "source": [
    "df['start_station'].value_counts().idxmax()"
   ]
  },
  {
   "cell_type": "markdown",
   "id": "56c11d14-6d96-48a2-a306-7893cc8b68a5",
   "metadata": {},
   "source": [
    "# Import another CSV, with the station names\n",
    "# Join them"
   ]
  },
  {
   "cell_type": "code",
   "execution_count": 13,
   "id": "cd5fa8e5-19c3-4120-9334-fe709ca881ca",
   "metadata": {},
   "outputs": [],
   "source": [
    "station_names = pd.read_csv(\"data/metro-trips-2021-q3/metro-bike-share-stations-2021-10-01.csv\")"
   ]
  },
  {
   "cell_type": "code",
   "execution_count": 14,
   "id": "0e6e33a9-7d45-4ed2-bfce-c2d84a2959a9",
   "metadata": {},
   "outputs": [
    {
     "data": {
      "text/html": [
       "<div>\n",
       "<style scoped>\n",
       "    .dataframe tbody tr th:only-of-type {\n",
       "        vertical-align: middle;\n",
       "    }\n",
       "\n",
       "    .dataframe tbody tr th {\n",
       "        vertical-align: top;\n",
       "    }\n",
       "\n",
       "    .dataframe thead th {\n",
       "        text-align: right;\n",
       "    }\n",
       "</style>\n",
       "<table border=\"1\" class=\"dataframe\">\n",
       "  <thead>\n",
       "    <tr style=\"text-align: right;\">\n",
       "      <th></th>\n",
       "      <th>3000</th>\n",
       "      <th>Virtual Station</th>\n",
       "      <th>7/7/2016</th>\n",
       "      <th>N/A</th>\n",
       "      <th>Active</th>\n",
       "    </tr>\n",
       "  </thead>\n",
       "  <tbody>\n",
       "    <tr>\n",
       "      <th>0</th>\n",
       "      <td>3005</td>\n",
       "      <td>7th &amp; Flower</td>\n",
       "      <td>7/7/2016</td>\n",
       "      <td>DTLA</td>\n",
       "      <td>Active</td>\n",
       "    </tr>\n",
       "    <tr>\n",
       "      <th>1</th>\n",
       "      <td>3006</td>\n",
       "      <td>Olive &amp; 8th</td>\n",
       "      <td>7/7/2016</td>\n",
       "      <td>DTLA</td>\n",
       "      <td>Active</td>\n",
       "    </tr>\n",
       "    <tr>\n",
       "      <th>2</th>\n",
       "      <td>3007</td>\n",
       "      <td>5th &amp; Grand</td>\n",
       "      <td>7/7/2016</td>\n",
       "      <td>DTLA</td>\n",
       "      <td>Active</td>\n",
       "    </tr>\n",
       "    <tr>\n",
       "      <th>3</th>\n",
       "      <td>3008</td>\n",
       "      <td>Figueroa &amp; 9th</td>\n",
       "      <td>7/7/2016</td>\n",
       "      <td>DTLA</td>\n",
       "      <td>Active</td>\n",
       "    </tr>\n",
       "    <tr>\n",
       "      <th>4</th>\n",
       "      <td>3010</td>\n",
       "      <td>11th &amp; Maple</td>\n",
       "      <td>7/7/2016</td>\n",
       "      <td>DTLA</td>\n",
       "      <td>Active</td>\n",
       "    </tr>\n",
       "  </tbody>\n",
       "</table>\n",
       "</div>"
      ],
      "text/plain": [
       "   3000 Virtual Station  7/7/2016   N/A  Active\n",
       "0  3005    7th & Flower  7/7/2016  DTLA  Active\n",
       "1  3006     Olive & 8th  7/7/2016  DTLA  Active\n",
       "2  3007     5th & Grand  7/7/2016  DTLA  Active\n",
       "3  3008  Figueroa & 9th  7/7/2016  DTLA  Active\n",
       "4  3010    11th & Maple  7/7/2016  DTLA  Active"
      ]
     },
     "execution_count": 14,
     "metadata": {},
     "output_type": "execute_result"
    }
   ],
   "source": [
    "station_names.head()"
   ]
  },
  {
   "cell_type": "code",
   "execution_count": 15,
   "id": "e2db23df-ee3a-405e-83a1-b5f23ea2f875",
   "metadata": {},
   "outputs": [],
   "source": [
    "station_names = station_names.set_index('3000')"
   ]
  },
  {
   "cell_type": "code",
   "execution_count": 16,
   "id": "0317d167-8ba3-4063-8747-315d18e760c9",
   "metadata": {},
   "outputs": [
    {
     "data": {
      "text/plain": [
       "Virtual Station    Ocean Front Walk & Navy\n",
       "7/7/2016                          7/7/2017\n",
       "N/A                               Westside\n",
       "Active                              Active\n",
       "Name: 4214, dtype: object"
      ]
     },
     "execution_count": 16,
     "metadata": {},
     "output_type": "execute_result"
    }
   ],
   "source": [
    "station_names.loc[4214]"
   ]
  },
  {
   "cell_type": "markdown",
   "id": "4b9b35ca-9934-4fe7-a4f8-475f30d6bba1",
   "metadata": {},
   "source": [
    "# The most common start station is Ocean Front Walk & Navy on Westside."
   ]
  },
  {
   "cell_type": "markdown",
   "id": "eb797567-b00a-44b5-bf6b-3544f2fccca7",
   "metadata": {},
   "source": [
    "# How many passholder trips of each type are taken?"
   ]
  },
  {
   "cell_type": "code",
   "execution_count": 17,
   "id": "b51e53d6-52d8-4190-b5bc-aa618eccd9da",
   "metadata": {},
   "outputs": [
    {
     "data": {
      "text/plain": [
       "'Monthly Pass'"
      ]
     },
     "execution_count": 17,
     "metadata": {},
     "output_type": "execute_result"
    }
   ],
   "source": [
    "df['passholder_type'].value_counts().idxmax()"
   ]
  },
  {
   "cell_type": "code",
   "execution_count": 18,
   "id": "2ece9efe-41cb-4608-8118-7c3b41eb1e1c",
   "metadata": {},
   "outputs": [],
   "source": [
    "passholder = df.groupby('passholder_type').size()"
   ]
  },
  {
   "cell_type": "code",
   "execution_count": 19,
   "id": "6ab00074-d45c-4b2b-ab80-903f381bd508",
   "metadata": {},
   "outputs": [
    {
     "data": {
      "text/plain": [
       "<AxesSubplot:xlabel='passholder_type'>"
      ]
     },
     "execution_count": 19,
     "metadata": {},
     "output_type": "execute_result"
    },
    {
     "data": {
      "image/png": "[encoded data removed]",
      "text/plain": [
       "<Figure size 432x288 with 1 Axes>"
      ]
     },
     "metadata": {
      "needs_background": "light"
     },
     "output_type": "display_data"
    }
   ],
   "source": [
    "passholder = passholder.sort_index(ascending=True)\n",
    "passholder.plot(kind = 'bar')"
   ]
  },
  {
   "cell_type": "markdown",
   "id": "7a76ee9e-0c3e-4124-8dd6-562806ddda1d",
   "metadata": {},
   "source": [
    "# The most common type of passholder is a monthly pass, while there is a low number of annual passes subscriptions."
   ]
  },
  {
   "cell_type": "markdown",
   "id": "069c8b3f-0d76-408c-8c4c-fcb3a991d1b0",
   "metadata": {},
   "source": [
    "# How long is the average time for a trip?"
   ]
  },
  {
   "cell_type": "code",
   "execution_count": 20,
   "id": "cd1b1876-b5eb-4092-b8c1-e4a9c9fab600",
   "metadata": {},
   "outputs": [
    {
     "data": {
      "text/plain": [
       "45.731454691753264"
      ]
     },
     "execution_count": 20,
     "metadata": {},
     "output_type": "execute_result"
    }
   ],
   "source": [
    "df[\"duration\"].mean()"
   ]
  },
  {
   "cell_type": "markdown",
   "id": "9267e9d5-e614-4c7c-9b3d-c99fdce360c0",
   "metadata": {},
   "source": [
    "# The average time taken for a Metro bike share trip is around 46 minutes."
   ]
  },
  {
   "cell_type": "code",
   "execution_count": 21,
   "id": "6d4e4728-8467-4297-9b0a-fc64f62cc6a7",
   "metadata": {},
   "outputs": [
    {
     "data": {
      "text/plain": [
       "5      2257\n",
       "6      2191\n",
       "8      2183\n",
       "7      2162\n",
       "9      1918\n",
       "       ... \n",
       "629       1\n",
       "597       1\n",
       "533       1\n",
       "373       1\n",
       "591       1\n",
       "Name: duration, Length: 790, dtype: int64"
      ]
     },
     "execution_count": 21,
     "metadata": {},
     "output_type": "execute_result"
    }
   ],
   "source": [
    "duration = df[\"duration\"].value_counts()\n",
    "duration "
   ]
  },
  {
   "cell_type": "code",
   "execution_count": 22,
   "id": "546b481e-5923-407f-b5af-a1807de53a8d",
   "metadata": {},
   "outputs": [
    {
     "data": {
      "text/plain": [
       "<AxesSubplot:>"
      ]
     },
     "execution_count": 22,
     "metadata": {},
     "output_type": "execute_result"
    },
    {
     "data": {
      "image/png": "[encoded data removed]",
      "text/plain": [
       "<Figure size 432x288 with 1 Axes>"
      ]
     },
     "metadata": {
      "needs_background": "light"
     },
     "output_type": "display_data"
    }
   ],
   "source": [
    "duration = duration.sort_index(ascending=True)\n",
    "duration.plot(kind = 'bar')"
   ]
  },
  {
   "cell_type": "markdown",
   "id": "56548097-9f40-4564-9cdd-b933fc25d5a9",
   "metadata": {},
   "source": [
    "# This looks weird and untidy. So, we can take the first 15 values."
   ]
  },
  {
   "cell_type": "code",
   "execution_count": 23,
   "id": "629c161c-9760-477a-be64-da89213d6ea5",
   "metadata": {},
   "outputs": [
    {
     "data": {
      "text/plain": [
       "<AxesSubplot:>"
      ]
     },
     "execution_count": 23,
     "metadata": {},
     "output_type": "execute_result"
    },
    {
     "data": {
      "image/png": "[encoded data removed]",
      "text/plain": [
       "<Figure size 432x288 with 1 Axes>"
      ]
     },
     "metadata": {
      "needs_background": "light"
     },
     "output_type": "display_data"
    }
   ],
   "source": [
    "duration = df[\"duration\"].value_counts().head(15)\n",
    "duration = duration.sort_index(ascending=True)\n",
    "duration.plot(kind = 'bar')"
   ]
  },
  {
   "cell_type": "markdown",
   "id": "6f84c496-d032-4150-a9b5-c52ece39a500",
   "metadata": {},
   "source": [
    "# Here is a much neater presentation of the average duration of each trip!"
   ]
  },
  {
   "cell_type": "code",
   "execution_count": 59,
   "id": "9239fb57-9ee1-436e-b23f-b16357c7b495",
   "metadata": {},
   "outputs": [
    {
     "data": {
      "text/html": [
       "<div>\n",
       "<style scoped>\n",
       "    .dataframe tbody tr th:only-of-type {\n",
       "        vertical-align: middle;\n",
       "    }\n",
       "\n",
       "    .dataframe tbody tr th {\n",
       "        vertical-align: top;\n",
       "    }\n",
       "\n",
       "    .dataframe thead th {\n",
       "        text-align: right;\n",
       "    }\n",
       "</style>\n",
       "<table border=\"1\" class=\"dataframe\">\n",
       "  <thead>\n",
       "    <tr style=\"text-align: right;\">\n",
       "      <th></th>\n",
       "      <th>trip_id</th>\n",
       "      <th>duration</th>\n",
       "      <th>start_time</th>\n",
       "      <th>end_time</th>\n",
       "      <th>start_station</th>\n",
       "      <th>start_lat</th>\n",
       "      <th>start_lon</th>\n",
       "      <th>end_station</th>\n",
       "      <th>end_lat</th>\n",
       "      <th>end_lon</th>\n",
       "      <th>bike_id</th>\n",
       "      <th>plan_duration</th>\n",
       "      <th>trip_route_category</th>\n",
       "      <th>passholder_type</th>\n",
       "      <th>bike_type</th>\n",
       "      <th>geometry</th>\n",
       "    </tr>\n",
       "  </thead>\n",
       "  <tbody>\n",
       "    <tr>\n",
       "      <th>0</th>\n",
       "      <td>165226338</td>\n",
       "      <td>19</td>\n",
       "      <td>2021-07-01 00:12:00</td>\n",
       "      <td>7/1/2021 0:31</td>\n",
       "      <td>4548</td>\n",
       "      <td>34.026829</td>\n",
       "      <td>-118.393517</td>\n",
       "      <td>4555</td>\n",
       "      <td>34.005871</td>\n",
       "      <td>-118.429161</td>\n",
       "      <td>20122</td>\n",
       "      <td>30</td>\n",
       "      <td>One Way</td>\n",
       "      <td>Monthly Pass</td>\n",
       "      <td>standard</td>\n",
       "      <td>POINT (-118.42916 34.00587)</td>\n",
       "    </tr>\n",
       "    <tr>\n",
       "      <th>1</th>\n",
       "      <td>165226638</td>\n",
       "      <td>22</td>\n",
       "      <td>2021-07-01 00:23:00</td>\n",
       "      <td>7/1/2021 0:45</td>\n",
       "      <td>4441</td>\n",
       "      <td>34.026619</td>\n",
       "      <td>-118.281807</td>\n",
       "      <td>4441</td>\n",
       "      <td>34.026619</td>\n",
       "      <td>-118.281807</td>\n",
       "      <td>17346</td>\n",
       "      <td>30</td>\n",
       "      <td>Round Trip</td>\n",
       "      <td>Monthly Pass</td>\n",
       "      <td>electric</td>\n",
       "      <td>POINT (-118.28181 34.02662)</td>\n",
       "    </tr>\n",
       "    <tr>\n",
       "      <th>2</th>\n",
       "      <td>165226838</td>\n",
       "      <td>26</td>\n",
       "      <td>2021-07-01 00:34:00</td>\n",
       "      <td>7/1/2021 1:00</td>\n",
       "      <td>4555</td>\n",
       "      <td>34.005871</td>\n",
       "      <td>-118.429161</td>\n",
       "      <td>4555</td>\n",
       "      <td>34.005871</td>\n",
       "      <td>-118.429161</td>\n",
       "      <td>14059</td>\n",
       "      <td>30</td>\n",
       "      <td>Round Trip</td>\n",
       "      <td>Monthly Pass</td>\n",
       "      <td>standard</td>\n",
       "      <td>POINT (-118.42916 34.00587)</td>\n",
       "    </tr>\n",
       "    <tr>\n",
       "      <th>3</th>\n",
       "      <td>165229638</td>\n",
       "      <td>17</td>\n",
       "      <td>2021-07-01 00:50:00</td>\n",
       "      <td>7/1/2021 1:07</td>\n",
       "      <td>4441</td>\n",
       "      <td>34.026619</td>\n",
       "      <td>-118.281807</td>\n",
       "      <td>4454</td>\n",
       "      <td>34.017899</td>\n",
       "      <td>-118.291718</td>\n",
       "      <td>17346</td>\n",
       "      <td>30</td>\n",
       "      <td>One Way</td>\n",
       "      <td>Monthly Pass</td>\n",
       "      <td>electric</td>\n",
       "      <td>POINT (-118.29172 34.01790)</td>\n",
       "    </tr>\n",
       "    <tr>\n",
       "      <th>4</th>\n",
       "      <td>165234338</td>\n",
       "      <td>15</td>\n",
       "      <td>2021-07-01 02:38:00</td>\n",
       "      <td>7/1/2021 2:53</td>\n",
       "      <td>4564</td>\n",
       "      <td>34.035351</td>\n",
       "      <td>-118.434143</td>\n",
       "      <td>4561</td>\n",
       "      <td>34.020061</td>\n",
       "      <td>-118.422684</td>\n",
       "      <td>15665</td>\n",
       "      <td>30</td>\n",
       "      <td>One Way</td>\n",
       "      <td>Monthly Pass</td>\n",
       "      <td>standard</td>\n",
       "      <td>POINT (-118.42268 34.02006)</td>\n",
       "    </tr>\n",
       "    <tr>\n",
       "      <th>...</th>\n",
       "      <td>...</td>\n",
       "      <td>...</td>\n",
       "      <td>...</td>\n",
       "      <td>...</td>\n",
       "      <td>...</td>\n",
       "      <td>...</td>\n",
       "      <td>...</td>\n",
       "      <td>...</td>\n",
       "      <td>...</td>\n",
       "      <td>...</td>\n",
       "      <td>...</td>\n",
       "      <td>...</td>\n",
       "      <td>...</td>\n",
       "      <td>...</td>\n",
       "      <td>...</td>\n",
       "      <td>...</td>\n",
       "    </tr>\n",
       "    <tr>\n",
       "      <th>58406</th>\n",
       "      <td>172218915</td>\n",
       "      <td>8</td>\n",
       "      <td>2021-09-30 23:28:00</td>\n",
       "      <td>9/30/2021 23:36</td>\n",
       "      <td>4440</td>\n",
       "      <td>34.061661</td>\n",
       "      <td>-118.298241</td>\n",
       "      <td>4587</td>\n",
       "      <td>34.060791</td>\n",
       "      <td>-118.309067</td>\n",
       "      <td>12362</td>\n",
       "      <td>30</td>\n",
       "      <td>One Way</td>\n",
       "      <td>Monthly Pass</td>\n",
       "      <td>standard</td>\n",
       "      <td>POINT (-118.30907 34.06079)</td>\n",
       "    </tr>\n",
       "    <tr>\n",
       "      <th>58407</th>\n",
       "      <td>172218913</td>\n",
       "      <td>7</td>\n",
       "      <td>2021-09-30 23:32:00</td>\n",
       "      <td>9/30/2021 23:39</td>\n",
       "      <td>3056</td>\n",
       "      <td>34.037460</td>\n",
       "      <td>-118.265381</td>\n",
       "      <td>3076</td>\n",
       "      <td>34.040600</td>\n",
       "      <td>-118.253838</td>\n",
       "      <td>20030</td>\n",
       "      <td>365</td>\n",
       "      <td>One Way</td>\n",
       "      <td>Annual Pass</td>\n",
       "      <td>standard</td>\n",
       "      <td>POINT (-118.25384 34.04060)</td>\n",
       "    </tr>\n",
       "    <tr>\n",
       "      <th>58408</th>\n",
       "      <td>172219114</td>\n",
       "      <td>13</td>\n",
       "      <td>2021-09-30 23:34:00</td>\n",
       "      <td>9/30/2021 23:47</td>\n",
       "      <td>4217</td>\n",
       "      <td>34.040310</td>\n",
       "      <td>-118.258270</td>\n",
       "      <td>4248</td>\n",
       "      <td>34.028351</td>\n",
       "      <td>-118.288673</td>\n",
       "      <td>19819</td>\n",
       "      <td>30</td>\n",
       "      <td>One Way</td>\n",
       "      <td>Monthly Pass</td>\n",
       "      <td>electric</td>\n",
       "      <td>POINT (-118.28867 34.02835)</td>\n",
       "    </tr>\n",
       "    <tr>\n",
       "      <th>58409</th>\n",
       "      <td>172219113</td>\n",
       "      <td>7</td>\n",
       "      <td>2021-09-30 23:41:00</td>\n",
       "      <td>9/30/2021 23:48</td>\n",
       "      <td>3008</td>\n",
       "      <td>34.046612</td>\n",
       "      <td>-118.262733</td>\n",
       "      <td>4315</td>\n",
       "      <td>34.054031</td>\n",
       "      <td>-118.270920</td>\n",
       "      <td>19544</td>\n",
       "      <td>1</td>\n",
       "      <td>One Way</td>\n",
       "      <td>Walk-up</td>\n",
       "      <td>electric</td>\n",
       "      <td>POINT (-118.27092 34.05403)</td>\n",
       "    </tr>\n",
       "    <tr>\n",
       "      <th>58410</th>\n",
       "      <td>172219313</td>\n",
       "      <td>7</td>\n",
       "      <td>2021-09-30 23:50:00</td>\n",
       "      <td>9/30/2021 23:57</td>\n",
       "      <td>3030</td>\n",
       "      <td>34.051941</td>\n",
       "      <td>-118.243530</td>\n",
       "      <td>4578</td>\n",
       "      <td>34.042980</td>\n",
       "      <td>-118.252953</td>\n",
       "      <td>19998</td>\n",
       "      <td>1</td>\n",
       "      <td>One Way</td>\n",
       "      <td>Walk-up</td>\n",
       "      <td>standard</td>\n",
       "      <td>POINT (-118.25295 34.04298)</td>\n",
       "    </tr>\n",
       "  </tbody>\n",
       "</table>\n",
       "<p>58411 rows × 16 columns</p>\n",
       "</div>"
      ],
      "text/plain": [
       "         trip_id  duration          start_time         end_time  \\\n",
       "0      165226338        19 2021-07-01 00:12:00    7/1/2021 0:31   \n",
       "1      165226638        22 2021-07-01 00:23:00    7/1/2021 0:45   \n",
       "2      165226838        26 2021-07-01 00:34:00    7/1/2021 1:00   \n",
       "3      165229638        17 2021-07-01 00:50:00    7/1/2021 1:07   \n",
       "4      165234338        15 2021-07-01 02:38:00    7/1/2021 2:53   \n",
       "...          ...       ...                 ...              ...   \n",
       "58406  172218915         8 2021-09-30 23:28:00  9/30/2021 23:36   \n",
       "58407  172218913         7 2021-09-30 23:32:00  9/30/2021 23:39   \n",
       "58408  172219114        13 2021-09-30 23:34:00  9/30/2021 23:47   \n",
       "58409  172219113         7 2021-09-30 23:41:00  9/30/2021 23:48   \n",
       "58410  172219313         7 2021-09-30 23:50:00  9/30/2021 23:57   \n",
       "\n",
       "       start_station  start_lat   start_lon  end_station    end_lat  \\\n",
       "0               4548  34.026829 -118.393517         4555  34.005871   \n",
       "1               4441  34.026619 -118.281807         4441  34.026619   \n",
       "2               4555  34.005871 -118.429161         4555  34.005871   \n",
       "3               4441  34.026619 -118.281807         4454  34.017899   \n",
       "4               4564  34.035351 -118.434143         4561  34.020061   \n",
       "...              ...        ...         ...          ...        ...   \n",
       "58406           4440  34.061661 -118.298241         4587  34.060791   \n",
       "58407           3056  34.037460 -118.265381         3076  34.040600   \n",
       "58408           4217  34.040310 -118.258270         4248  34.028351   \n",
       "58409           3008  34.046612 -118.262733         4315  34.054031   \n",
       "58410           3030  34.051941 -118.243530         4578  34.042980   \n",
       "\n",
       "          end_lon bike_id  plan_duration trip_route_category passholder_type  \\\n",
       "0     -118.429161   20122             30             One Way    Monthly Pass   \n",
       "1     -118.281807   17346             30          Round Trip    Monthly Pass   \n",
       "2     -118.429161   14059             30          Round Trip    Monthly Pass   \n",
       "3     -118.291718   17346             30             One Way    Monthly Pass   \n",
       "4     -118.422684   15665             30             One Way    Monthly Pass   \n",
       "...           ...     ...            ...                 ...             ...   \n",
       "58406 -118.309067   12362             30             One Way    Monthly Pass   \n",
       "58407 -118.253838   20030            365             One Way     Annual Pass   \n",
       "58408 -118.288673   19819             30             One Way    Monthly Pass   \n",
       "58409 -118.270920   19544              1             One Way         Walk-up   \n",
       "58410 -118.252953   19998              1             One Way         Walk-up   \n",
       "\n",
       "      bike_type                     geometry  \n",
       "0      standard  POINT (-118.42916 34.00587)  \n",
       "1      electric  POINT (-118.28181 34.02662)  \n",
       "2      standard  POINT (-118.42916 34.00587)  \n",
       "3      electric  POINT (-118.29172 34.01790)  \n",
       "4      standard  POINT (-118.42268 34.02006)  \n",
       "...         ...                          ...  \n",
       "58406  standard  POINT (-118.30907 34.06079)  \n",
       "58407  standard  POINT (-118.25384 34.04060)  \n",
       "58408  electric  POINT (-118.28867 34.02835)  \n",
       "58409  electric  POINT (-118.27092 34.05403)  \n",
       "58410  standard  POINT (-118.25295 34.04298)  \n",
       "\n",
       "[58411 rows x 16 columns]"
      ]
     },
     "execution_count": 59,
     "metadata": {},
     "output_type": "execute_result"
    }
   ],
   "source": [
    "gdf_starts = gpd.GeoDataFrame(df, geometry=gpd.points_from_xy(df.start_lon, df.start_lat))\n",
    "gdf_ends = gpd.GeoDataFrame(df, geometry=gpd.points_from_xy(df.end_lon, df.end_lat))\n",
    "gdf_starts"
   ]
  },
  {
   "cell_type": "code",
   "execution_count": null,
   "id": "04fe7034-4c1b-4434-8b1e-aafa944644e4",
   "metadata": {},
   "outputs": [],
   "source": []
  },
  {
   "cell_type": "code",
   "execution_count": 62,
   "id": "11a2626b-3386-45d1-b7bd-7a43c2146563",
   "metadata": {},
   "outputs": [],
   "source": []
  },
  {
   "cell_type": "code",
   "execution_count": null,
   "id": "a10c5de0-6630-49da-8383-3ad1fe464d26",
   "metadata": {},
   "outputs": [],
   "source": []
  }
 ],
 "metadata": {
  "kernelspec": {
   "display_name": "Python 3",
   "language": "python",
   "name": "python3"
  },
  "language_info": {
   "codemirror_mode": {
    "name": "ipython",
    "version": 3
   },
   "file_extension": ".py",
   "mimetype": "text/x-python",
   "name": "python",
   "nbconvert_exporter": "python",
   "pygments_lexer": "ipython3",
   "version": "3.8.8"
  }
 },
 "nbformat": 4,
 "nbformat_minor": 5
}
