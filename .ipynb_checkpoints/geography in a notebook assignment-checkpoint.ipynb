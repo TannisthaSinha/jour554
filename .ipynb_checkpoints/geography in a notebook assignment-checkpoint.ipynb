{
 "cells": [
  {
   "cell_type": "code",
   "execution_count": 1,
   "id": "5e59b458-19d4-4300-9a60-028a0bc284eb",
   "metadata": {},
   "outputs": [],
   "source": [
    "import pandas as pd"
   ]
  },
  {
   "cell_type": "code",
   "execution_count": 3,
   "id": "90c271a2-a944-4d66-ab36-e1b702f71dd3",
   "metadata": {},
   "outputs": [],
   "source": [
    "import geopandas as gpd"
   ]
  },
  {
   "cell_type": "code",
   "execution_count": 5,
   "id": "7bb051be-23f2-477b-ae78-0f41c13296b0",
   "metadata": {},
   "outputs": [],
   "source": [
    "landfill = gpd.read_file(\"data/Methane_Producing_Landfills/Methane_Producing_Landfills.shp\")"
   ]
  },
  {
   "cell_type": "code",
   "execution_count": 6,
   "id": "eeb78112-fd2d-474f-9e7c-37f197a718ac",
   "metadata": {},
   "outputs": [
    {
     "data": {
      "text/plain": [
       "<AxesSubplot:>"
      ]
     },
     "execution_count": 6,
     "metadata": {},
     "output_type": "execute_result"
    },
    {
     "data": {
      "image/png": "[encoded data removed]",
      "text/plain": [
       "<Figure size 432x288 with 1 Axes>"
      ]
     },
     "metadata": {
      "needs_background": "light"
     },
     "output_type": "display_data"
    }
   ],
   "source": [
    "landfill.plot()"
   ]
  },
  {
   "cell_type": "code",
   "execution_count": 7,
   "id": "b5283fc2-ae29-4dd5-a76b-33475e01732c",
   "metadata": {},
   "outputs": [
    {
     "name": "stdout",
     "output_type": "stream",
     "text": [
      "<class 'geopandas.geodataframe.GeoDataFrame'>\n",
      "RangeIndex: 646 entries, 0 to 645\n",
      "Data columns (total 8 columns):\n",
      " #   Column      Non-Null Count  Dtype   \n",
      "---  ------      --------------  -----   \n",
      " 0   OBJECTID    646 non-null    int64   \n",
      " 1   SITE_NUM    646 non-null    object  \n",
      " 2   NAME        646 non-null    object  \n",
      " 3   SHAPEAREA   646 non-null    float64 \n",
      " 4   SHAPELEN    646 non-null    float64 \n",
      " 5   NUM         294 non-null    object  \n",
      " 6   SUP_DISTRI  556 non-null    object  \n",
      " 7   geometry    646 non-null    geometry\n",
      "dtypes: float64(2), geometry(1), int64(1), object(4)\n",
      "memory usage: 40.5+ KB\n"
     ]
    }
   ],
   "source": [
    "landfill.info()"
   ]
  },
  {
   "cell_type": "code",
   "execution_count": 8,
   "id": "e263fc91-ad8a-4df2-9146-cefe99b9d046",
   "metadata": {},
   "outputs": [],
   "source": [
    "landfill.to_file(\"data/landfills.geoJSON\", driver=\"GeoJSON\")"
   ]
  },
  {
   "cell_type": "code",
   "execution_count": null,
   "id": "1da9dfea-d9c0-4350-a586-9cdce3efaa20",
   "metadata": {},
   "outputs": [],
   "source": []
  }
 ],
 "metadata": {
  "kernelspec": {
   "display_name": "Python 3",
   "language": "python",
   "name": "python3"
  },
  "language_info": {
   "codemirror_mode": {
    "name": "ipython",
    "version": 3
   },
   "file_extension": ".py",
   "mimetype": "text/x-python",
   "name": "python",
   "nbconvert_exporter": "python",
   "pygments_lexer": "ipython3",
   "version": "3.8.8"
  }
 },
 "nbformat": 4,
 "nbformat_minor": 5
}
