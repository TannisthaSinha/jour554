{
 "cells": [
  {
   "cell_type": "markdown",
   "id": "3e5ab149-bdaf-4197-954c-d9d4656bea4b",
   "metadata": {},
   "source": [
    "# Notebook creation"
   ]
  },
  {
   "cell_type": "markdown",
   "id": "1d3dd9dc-d544-4719-8f19-34f68a772ffe",
   "metadata": {},
   "source": [
    "# Import notebook"
   ]
  },
  {
   "cell_type": "code",
   "execution_count": 7,
   "id": "adc01882-db89-4966-b914-44f0196087ed",
   "metadata": {},
   "outputs": [],
   "source": [
    "import pandas as pd"
   ]
  },
  {
   "cell_type": "markdown",
   "id": "eee06fd5-a0c2-44fb-a510-c4e284bb9fd2",
   "metadata": {},
   "source": [
    "# Import Pandas and any other Python modules"
   ]
  },
  {
   "cell_type": "code",
   "execution_count": 10,
   "id": "f24c687f-2f2c-4a0b-8120-0ef95ca401e6",
   "metadata": {},
   "outputs": [],
   "source": [
    "info = pd.read_csv(\"lapd/LAPD_Calls_for_Service_2021.csv\")"
   ]
  },
  {
   "cell_type": "code",
   "execution_count": null,
   "id": "7d35c944-6ae7-4f07-a1f9-bd0e10cd572c",
   "metadata": {},
   "outputs": [],
   "source": []
  },
  {
   "cell_type": "code",
   "execution_count": 12,
   "id": "0f9ad49b-1d7b-42cf-99fb-b3e009dfe90f",
   "metadata": {},
   "outputs": [
    {
     "data": {
      "text/html": [
       "<div>\n",
       "<style scoped>\n",
       "    .dataframe tbody tr th:only-of-type {\n",
       "        vertical-align: middle;\n",
       "    }\n",
       "\n",
       "    .dataframe tbody tr th {\n",
       "        vertical-align: top;\n",
       "    }\n",
       "\n",
       "    .dataframe thead th {\n",
       "        text-align: right;\n",
       "    }\n",
       "</style>\n",
       "<table border=\"1\" class=\"dataframe\">\n",
       "  <thead>\n",
       "    <tr style=\"text-align: right;\">\n",
       "      <th></th>\n",
       "      <th>Incident_Number</th>\n",
       "      <th>Area_Occ</th>\n",
       "      <th>Rpt_Dist</th>\n",
       "      <th>Dispatch_Date</th>\n",
       "      <th>Dispatch_Time</th>\n",
       "      <th>Call_Type_Code</th>\n",
       "      <th>Call_Type_Text</th>\n",
       "    </tr>\n",
       "  </thead>\n",
       "  <tbody>\n",
       "    <tr>\n",
       "      <th>0</th>\n",
       "      <td>PD21031500000011</td>\n",
       "      <td>77th Street</td>\n",
       "      <td>1265.0</td>\n",
       "      <td>03/15/2021 12:00:00 AM</td>\n",
       "      <td>00:08:27</td>\n",
       "      <td>242D</td>\n",
       "      <td>DOM VIOL</td>\n",
       "    </tr>\n",
       "    <tr>\n",
       "      <th>1</th>\n",
       "      <td>PD21030800002343</td>\n",
       "      <td>77th Street</td>\n",
       "      <td>1268.0</td>\n",
       "      <td>03/08/2021 12:00:00 AM</td>\n",
       "      <td>13:22:25</td>\n",
       "      <td>620D</td>\n",
       "      <td>DOM VIOL</td>\n",
       "    </tr>\n",
       "    <tr>\n",
       "      <th>2</th>\n",
       "      <td>PD21012600002393</td>\n",
       "      <td>N Hollywood</td>\n",
       "      <td>1543.0</td>\n",
       "      <td>01/26/2021 12:00:00 AM</td>\n",
       "      <td>13:18:18</td>\n",
       "      <td>242D</td>\n",
       "      <td>DOM VIOL</td>\n",
       "    </tr>\n",
       "    <tr>\n",
       "      <th>3</th>\n",
       "      <td>PD21031600000983</td>\n",
       "      <td>Olympic</td>\n",
       "      <td>2044.0</td>\n",
       "      <td>03/16/2021 12:00:00 AM</td>\n",
       "      <td>08:12:05</td>\n",
       "      <td>620D</td>\n",
       "      <td>DOM VIOL</td>\n",
       "    </tr>\n",
       "    <tr>\n",
       "      <th>4</th>\n",
       "      <td>PD21010100000337</td>\n",
       "      <td>Newton</td>\n",
       "      <td>1371.0</td>\n",
       "      <td>01/01/2021 12:00:00 AM</td>\n",
       "      <td>01:01:15</td>\n",
       "      <td>245DS</td>\n",
       "      <td>DOM VIOL SUSP</td>\n",
       "    </tr>\n",
       "    <tr>\n",
       "      <th>...</th>\n",
       "      <td>...</td>\n",
       "      <td>...</td>\n",
       "      <td>...</td>\n",
       "      <td>...</td>\n",
       "      <td>...</td>\n",
       "      <td>...</td>\n",
       "      <td>...</td>\n",
       "    </tr>\n",
       "    <tr>\n",
       "      <th>29934</th>\n",
       "      <td>PD21091400005440</td>\n",
       "      <td>Newton</td>\n",
       "      <td>1383.0</td>\n",
       "      <td>09/14/2021 12:00:00 AM</td>\n",
       "      <td>23:55:45</td>\n",
       "      <td>242DX</td>\n",
       "      <td>BATTERY DOMESTIC VIO</td>\n",
       "    </tr>\n",
       "    <tr>\n",
       "      <th>29935</th>\n",
       "      <td>PD21091700000639</td>\n",
       "      <td>Southeast</td>\n",
       "      <td>1844.0</td>\n",
       "      <td>09/17/2021 12:00:00 AM</td>\n",
       "      <td>04:47:46</td>\n",
       "      <td>242D</td>\n",
       "      <td>DOM VIOL</td>\n",
       "    </tr>\n",
       "    <tr>\n",
       "      <th>29936</th>\n",
       "      <td>PD21091800000133</td>\n",
       "      <td>Devonshire</td>\n",
       "      <td>1749.0</td>\n",
       "      <td>09/18/2021 12:00:00 AM</td>\n",
       "      <td>00:34:30</td>\n",
       "      <td>620DR</td>\n",
       "      <td>DOM VIOL R/O</td>\n",
       "    </tr>\n",
       "    <tr>\n",
       "      <th>29937</th>\n",
       "      <td>PD21091700004845</td>\n",
       "      <td>West Valley</td>\n",
       "      <td>1028.0</td>\n",
       "      <td>09/17/2021 12:00:00 AM</td>\n",
       "      <td>21:40:10</td>\n",
       "      <td>620D</td>\n",
       "      <td>DOM VIOL</td>\n",
       "    </tr>\n",
       "    <tr>\n",
       "      <th>29938</th>\n",
       "      <td>PD21091600005316</td>\n",
       "      <td>Hollenbeck</td>\n",
       "      <td>423.0</td>\n",
       "      <td>09/16/2021 12:00:00 AM</td>\n",
       "      <td>23:22:58</td>\n",
       "      <td>242D</td>\n",
       "      <td>DOM VIOL</td>\n",
       "    </tr>\n",
       "  </tbody>\n",
       "</table>\n",
       "<p>29939 rows × 7 columns</p>\n",
       "</div>"
      ],
      "text/plain": [
       "        Incident_Number     Area_Occ  Rpt_Dist           Dispatch_Date  \\\n",
       "0      PD21031500000011  77th Street    1265.0  03/15/2021 12:00:00 AM   \n",
       "1      PD21030800002343  77th Street    1268.0  03/08/2021 12:00:00 AM   \n",
       "2      PD21012600002393  N Hollywood    1543.0  01/26/2021 12:00:00 AM   \n",
       "3      PD21031600000983      Olympic    2044.0  03/16/2021 12:00:00 AM   \n",
       "4      PD21010100000337       Newton    1371.0  01/01/2021 12:00:00 AM   \n",
       "...                 ...          ...       ...                     ...   \n",
       "29934  PD21091400005440       Newton    1383.0  09/14/2021 12:00:00 AM   \n",
       "29935  PD21091700000639    Southeast    1844.0  09/17/2021 12:00:00 AM   \n",
       "29936  PD21091800000133   Devonshire    1749.0  09/18/2021 12:00:00 AM   \n",
       "29937  PD21091700004845  West Valley    1028.0  09/17/2021 12:00:00 AM   \n",
       "29938  PD21091600005316   Hollenbeck     423.0  09/16/2021 12:00:00 AM   \n",
       "\n",
       "      Dispatch_Time Call_Type_Code        Call_Type_Text  \n",
       "0          00:08:27           242D              DOM VIOL  \n",
       "1          13:22:25           620D              DOM VIOL  \n",
       "2          13:18:18           242D              DOM VIOL  \n",
       "3          08:12:05           620D              DOM VIOL  \n",
       "4          01:01:15          245DS         DOM VIOL SUSP  \n",
       "...             ...            ...                   ...  \n",
       "29934      23:55:45          242DX  BATTERY DOMESTIC VIO  \n",
       "29935      04:47:46           242D              DOM VIOL  \n",
       "29936      00:34:30          620DR          DOM VIOL R/O  \n",
       "29937      21:40:10           620D              DOM VIOL  \n",
       "29938      23:22:58           242D              DOM VIOL  \n",
       "\n",
       "[29939 rows x 7 columns]"
      ]
     },
     "execution_count": 12,
     "metadata": {},
     "output_type": "execute_result"
    }
   ],
   "source": [
    "info"
   ]
  },
  {
   "cell_type": "markdown",
   "id": "f022d0be-a2ab-4bf2-99be-7bcae369ca0a",
   "metadata": {},
   "source": [
    "# Run basic descriptives on a few columns in the dataframe"
   ]
  },
  {
   "cell_type": "code",
   "execution_count": 20,
   "id": "30a204bf-c712-4ec1-a7ee-5b353d1634c7",
   "metadata": {},
   "outputs": [
    {
     "data": {
      "text/plain": [
       "77th Street    3135\n",
       "Southeast      2524\n",
       "Newton         1965\n",
       "Southwest      1821\n",
       "Mission        1687\n",
       "Rampart        1679\n",
       "Harbor         1623\n",
       "Olympic        1548\n",
       "Central        1331\n",
       "Hollenbeck     1296\n",
       "N Hollywood    1248\n",
       "Foothill       1198\n",
       "Van Nuys       1171\n",
       "Hollywood      1100\n",
       "Topanga        1089\n",
       "West Valley    1083\n",
       "Devonshire     1018\n",
       "Pacific        1007\n",
       "Northeast       938\n",
       "Wilshire        858\n",
       "West LA         565\n",
       "Outside          55\n",
       "Name: Area_Occ, dtype: int64"
      ]
     },
     "execution_count": 20,
     "metadata": {},
     "output_type": "execute_result"
    }
   ],
   "source": [
    "info[\"Area_Occ\"].value_counts()"
   ]
  },
  {
   "cell_type": "code",
   "execution_count": null,
   "id": "c1dafc06-2d3d-4c26-ab2e-cb1425d4ee87",
   "metadata": {},
   "outputs": [],
   "source": [
    "info[]"
   ]
  }
 ],
 "metadata": {
  "kernelspec": {
   "display_name": "Python 3",
   "language": "python",
   "name": "python3"
  },
  "language_info": {
   "codemirror_mode": {
    "name": "ipython",
    "version": 3
   },
   "file_extension": ".py",
   "mimetype": "text/x-python",
   "name": "python",
   "nbconvert_exporter": "python",
   "pygments_lexer": "ipython3",
   "version": "3.8.8"
  }
 },
 "nbformat": 4,
 "nbformat_minor": 5
}
