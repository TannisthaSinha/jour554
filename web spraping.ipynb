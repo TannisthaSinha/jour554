{
 "cells": [
  {
   "cell_type": "code",
   "execution_count": 1,
   "id": "129af7fa-fac9-4733-ad41-759a83ebf79b",
   "metadata": {},
   "outputs": [],
   "source": [
    "import pandas as pd\n",
    "\n",
    "url = 'https://electproject.github.io/Early-Vote-2020G/CA.html'"
   ]
  },
  {
   "cell_type": "code",
   "execution_count": 2,
   "id": "9c0ce8fe-bb03-45bc-90e6-9ad4f1aa4f6b",
   "metadata": {},
   "outputs": [],
   "source": [
    "ballots = pd.read_html(url)[0]"
   ]
  },
  {
   "cell_type": "code",
   "execution_count": 3,
   "id": "3601879e-66c1-4075-a64d-4ad14572b3b8",
   "metadata": {},
   "outputs": [
    {
     "data": {
      "text/plain": [
       "Index(['Party', 'Returned Ballots', 'Freq. Distribution', 'Requested Ballots',\n",
       "       'Return Rate'],\n",
       "      dtype='object')"
      ]
     },
     "execution_count": 3,
     "metadata": {},
     "output_type": "execute_result"
    }
   ],
   "source": [
    "ballots.columns"
   ]
  },
  {
   "cell_type": "code",
   "execution_count": 4,
   "id": "525b0010-413c-455a-8686-223a7864229e",
   "metadata": {},
   "outputs": [
    {
     "data": {
      "text/html": [
       "<div>\n",
       "<style scoped>\n",
       "    .dataframe tbody tr th:only-of-type {\n",
       "        vertical-align: middle;\n",
       "    }\n",
       "\n",
       "    .dataframe tbody tr th {\n",
       "        vertical-align: top;\n",
       "    }\n",
       "\n",
       "    .dataframe thead th {\n",
       "        text-align: right;\n",
       "    }\n",
       "</style>\n",
       "<table border=\"1\" class=\"dataframe\">\n",
       "  <thead>\n",
       "    <tr style=\"text-align: right;\">\n",
       "      <th></th>\n",
       "      <th>Party</th>\n",
       "      <th>Returned Ballots</th>\n",
       "      <th>Freq. Distribution</th>\n",
       "      <th>Requested Ballots</th>\n",
       "      <th>Return Rate</th>\n",
       "    </tr>\n",
       "  </thead>\n",
       "  <tbody>\n",
       "    <tr>\n",
       "      <th>0</th>\n",
       "      <td>Democrats</td>\n",
       "      <td>6157827</td>\n",
       "      <td>50.9</td>\n",
       "      <td>10170982</td>\n",
       "      <td>60.5</td>\n",
       "    </tr>\n",
       "    <tr>\n",
       "      <th>1</th>\n",
       "      <td>Republicans</td>\n",
       "      <td>2955528</td>\n",
       "      <td>24.4</td>\n",
       "      <td>5344082</td>\n",
       "      <td>55.3</td>\n",
       "    </tr>\n",
       "    <tr>\n",
       "      <th>2</th>\n",
       "      <td>No Party Affiliation/Minor</td>\n",
       "      <td>2977358</td>\n",
       "      <td>24.6</td>\n",
       "      <td>6527198</td>\n",
       "      <td>45.6</td>\n",
       "    </tr>\n",
       "    <tr>\n",
       "      <th>3</th>\n",
       "      <td>TOTAL</td>\n",
       "      <td>12090534</td>\n",
       "      <td>100.0</td>\n",
       "      <td>22042262</td>\n",
       "      <td>54.9</td>\n",
       "    </tr>\n",
       "  </tbody>\n",
       "</table>\n",
       "</div>"
      ],
      "text/plain": [
       "                        Party  Returned Ballots  Freq. Distribution  \\\n",
       "0                   Democrats           6157827                50.9   \n",
       "1                 Republicans           2955528                24.4   \n",
       "2  No Party Affiliation/Minor           2977358                24.6   \n",
       "3                       TOTAL          12090534               100.0   \n",
       "\n",
       "   Requested Ballots  Return Rate  \n",
       "0           10170982         60.5  \n",
       "1            5344082         55.3  \n",
       "2            6527198         45.6  \n",
       "3           22042262         54.9  "
      ]
     },
     "execution_count": 4,
     "metadata": {},
     "output_type": "execute_result"
    }
   ],
   "source": [
    "ballots.head()"
   ]
  },
  {
   "cell_type": "code",
   "execution_count": 5,
   "id": "98855031-b413-40d5-9e97-31f05a1cd732",
   "metadata": {},
   "outputs": [
    {
     "data": {
      "text/html": [
       "<div>\n",
       "<style scoped>\n",
       "    .dataframe tbody tr th:only-of-type {\n",
       "        vertical-align: middle;\n",
       "    }\n",
       "\n",
       "    .dataframe tbody tr th {\n",
       "        vertical-align: top;\n",
       "    }\n",
       "\n",
       "    .dataframe thead th {\n",
       "        text-align: right;\n",
       "    }\n",
       "</style>\n",
       "<table border=\"1\" class=\"dataframe\">\n",
       "  <thead>\n",
       "    <tr style=\"text-align: right;\">\n",
       "      <th></th>\n",
       "      <th>Party</th>\n",
       "      <th>Returned Ballots</th>\n",
       "      <th>Freq. Distribution</th>\n",
       "      <th>Requested Ballots</th>\n",
       "      <th>Return Rate</th>\n",
       "    </tr>\n",
       "  </thead>\n",
       "  <tbody>\n",
       "    <tr>\n",
       "      <th>0</th>\n",
       "      <td>Democrats</td>\n",
       "      <td>6157827</td>\n",
       "      <td>50.9</td>\n",
       "      <td>10170982</td>\n",
       "      <td>60.5</td>\n",
       "    </tr>\n",
       "    <tr>\n",
       "      <th>1</th>\n",
       "      <td>Republicans</td>\n",
       "      <td>2955528</td>\n",
       "      <td>24.4</td>\n",
       "      <td>5344082</td>\n",
       "      <td>55.3</td>\n",
       "    </tr>\n",
       "    <tr>\n",
       "      <th>2</th>\n",
       "      <td>No Party Affiliation/Minor</td>\n",
       "      <td>2977358</td>\n",
       "      <td>24.6</td>\n",
       "      <td>6527198</td>\n",
       "      <td>45.6</td>\n",
       "    </tr>\n",
       "    <tr>\n",
       "      <th>3</th>\n",
       "      <td>TOTAL</td>\n",
       "      <td>12090534</td>\n",
       "      <td>100.0</td>\n",
       "      <td>22042262</td>\n",
       "      <td>54.9</td>\n",
       "    </tr>\n",
       "  </tbody>\n",
       "</table>\n",
       "</div>"
      ],
      "text/plain": [
       "                        Party  Returned Ballots  Freq. Distribution  \\\n",
       "0                   Democrats           6157827                50.9   \n",
       "1                 Republicans           2955528                24.4   \n",
       "2  No Party Affiliation/Minor           2977358                24.6   \n",
       "3                       TOTAL          12090534               100.0   \n",
       "\n",
       "   Requested Ballots  Return Rate  \n",
       "0           10170982         60.5  \n",
       "1            5344082         55.3  \n",
       "2            6527198         45.6  \n",
       "3           22042262         54.9  "
      ]
     },
     "execution_count": 5,
     "metadata": {},
     "output_type": "execute_result"
    }
   ],
   "source": [
    "ballots.tail()"
   ]
  },
  {
   "cell_type": "code",
   "execution_count": 7,
   "id": "d853400f-7e4b-4498-9a2a-9d8b15b8196c",
   "metadata": {},
   "outputs": [
    {
     "data": {
      "text/plain": [
       "60.5"
      ]
     },
     "execution_count": 7,
     "metadata": {},
     "output_type": "execute_result"
    }
   ],
   "source": [
    "ballots[\"Return Rate\"].max()"
   ]
  },
  {
   "cell_type": "code",
   "execution_count": null,
   "id": "462421cd-6f2e-4711-9301-9a950ddac687",
   "metadata": {},
   "outputs": [],
   "source": [
    "ballots.to_csv(\"data/\", index=False)"
   ]
  }
 ],
 "metadata": {
  "kernelspec": {
   "display_name": "Python 3",
   "language": "python",
   "name": "python3"
  },
  "language_info": {
   "codemirror_mode": {
    "name": "ipython",
    "version": 3
   },
   "file_extension": ".py",
   "mimetype": "text/x-python",
   "name": "python",
   "nbconvert_exporter": "python",
   "pygments_lexer": "ipython3",
   "version": "3.8.8"
  }
 },
 "nbformat": 4,
 "nbformat_minor": 5
}
